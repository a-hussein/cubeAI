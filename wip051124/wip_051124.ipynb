{
 "cells": [
  {
   "cell_type": "code",
   "execution_count": null,
   "id": "e0020b15-74f3-40d5-9b02-44f274f83f7a",
   "metadata": {},
   "outputs": [],
   "source": [
    "import os\n",
    "import random\n",
    "# print(os.getcwd())\n",
    "\n",
    "os.chdir('/Users/ayman/Desktop/workspace/cubeAI')\n",
    "\n",
    "from cubeai.cube.moves import Cube, CrossSolver\n",
    "from cubeai.test.testing_functions import (\n",
    "    do_scramble, sanitize, solved_cube, \n",
    "    iterate_through_scrambles_for_testing, generate_random_scramble, cross_solver\n",
    ")"
   ]
  },
  {
   "cell_type": "code",
   "execution_count": null,
   "id": "56fa0130",
   "metadata": {},
   "outputs": [],
   "source": [
    "_cube = do_scramble(['R2', 'Fp', 'Dp', 'B', 'D2', 'Lp', 'Fp', 'D', 'F', 'R2', 'D2', 'B'])\n",
    "# _cube = do_scramble(['Fp', 'Lp', 'Dp', 'Fp', 'Dp', 'L2', 'D', 'R', 'F', 'D2', 'Fp']) # this scramble required me to change the line in treeify of <= 6 to <=7 and still only yields a 9 move solve. i myself got a 9 move solverr\n",
    "# _cube = do_scramble(['Fp', 'Lp', 'Dp', 'Fp', 'Dp', 'L2', 'D', 'R', 'F', 'D2', 'Fp', 'F', 'U2', 'Fp', 'U2']) # me and the algo found a 9 move solve (also doesnt work when less than 6 like above)\n",
    "\n",
    "_cube_state = _cube.cube_state\n",
    "_combo = _cube.combo()\n",
    "_combo_list = []\n",
    "for i in _combo:\n",
    "    _combo_list.append(i[0])\n",
    "print('_combo_list: ', _combo_list)"
   ]
  },
  {
   "cell_type": "markdown",
   "id": "703045ae-a102-4959-a212-133e78feec42",
   "metadata": {},
   "source": [
    "___________________"
   ]
  },
  {
   "cell_type": "code",
   "execution_count": null,
   "id": "9188104f",
   "metadata": {},
   "outputs": [],
   "source": [
    "random.seed(0)\n",
    "random_scrambles = []\n",
    "for i in range(5):\n",
    "    random_scrambles.append(generate_random_scramble())\n",
    "\n",
    "print(random_scrambles)\n",
    "cubes = iterate_through_scrambles_for_testing(random_scrambles)"
   ]
  },
  {
   "cell_type": "code",
   "execution_count": null,
   "id": "ed8757fa",
   "metadata": {},
   "outputs": [],
   "source": [
    "random_scrambles[1] # this scramble takes forever to solve (i can do in 7)\n",
    "# when len all moves <=5 , gives me 13 move solve, when 6, gives me 8"
   ]
  },
  {
   "cell_type": "code",
   "execution_count": null,
   "id": "4390cfcf",
   "metadata": {},
   "outputs": [],
   "source": [
    "solver = CrossSolver()\n",
    "solver.treeify(cubes[1], [])\n",
    "_solutions = solver.solutions\n",
    "\n",
    "unique_solutions = [list(t) for t in set(tuple(inner_list) for inner_list in _solutions)]\n",
    "solns = [[len(solution), solution] for solution in unique_solutions]\n",
    "sorted_solns = sorted(solns, key=lambda x: x[0])\n",
    "\n",
    "print(random_scrambles[1])\n",
    "sorted_solns"
   ]
  },
  {
   "cell_type": "code",
   "execution_count": null,
   "id": "f7df083d",
   "metadata": {},
   "outputs": [],
   "source": [
    "x = cross_solver(cubes[1])"
   ]
  },
  {
   "cell_type": "code",
   "execution_count": null,
   "id": "9a094982",
   "metadata": {},
   "outputs": [],
   "source": [
    "x # last scramble should say 7 moves. this is from cube[1]"
   ]
  },
  {
   "cell_type": "code",
   "execution_count": null,
   "id": "1d6f49ae",
   "metadata": {},
   "outputs": [],
   "source": [
    "res = []\n",
    "for i in range(0,5):\n",
    "    res.append(cross_solver(cubes[i]))"
   ]
  },
  {
   "cell_type": "code",
   "execution_count": null,
   "id": "d9071eb1",
   "metadata": {},
   "outputs": [],
   "source": [
    "final = {}\n",
    "for i in range(0,5):\n",
    "    final[tuple(random_scrambles[i])] = res[i]"
   ]
  },
  {
   "cell_type": "code",
   "execution_count": null,
   "id": "a95dd8c9",
   "metadata": {
    "scrolled": false
   },
   "outputs": [],
   "source": [
    "import pprint\n",
    "pp = pprint.PrettyPrinter(depth=3)\n",
    "pp.pprint(final)"
   ]
  },
  {
   "cell_type": "markdown",
   "id": "467d02a6",
   "metadata": {},
   "source": [
    "__________________"
   ]
  },
  {
   "cell_type": "code",
   "execution_count": null,
   "id": "07f66fa1-f516-4ebf-a135-ce9045c8b95f",
   "metadata": {},
   "outputs": [],
   "source": [
    "import matplotlib.pyplot as plt\n",
    "\n",
    "\n",
    "plt.hist([x[0] for x in solns])"
   ]
  }
 ],
 "metadata": {
  "kernelspec": {
   "display_name": "Python 3 (ipykernel)",
   "language": "python",
   "name": "python3"
  },
  "language_info": {
   "codemirror_mode": {
    "name": "ipython",
    "version": 3
   },
   "file_extension": ".py",
   "mimetype": "text/x-python",
   "name": "python",
   "nbconvert_exporter": "python",
   "pygments_lexer": "ipython3",
   "version": "3.11.7"
  }
 },
 "nbformat": 4,
 "nbformat_minor": 5
}
