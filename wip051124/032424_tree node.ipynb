{
 "cells": [
  {
   "cell_type": "code",
   "execution_count": 1,
   "id": "e0020b15-74f3-40d5-9b02-44f274f83f7a",
   "metadata": {},
   "outputs": [],
   "source": [
    "import os\n",
    "# print(os.getcwd())\n",
    "\n",
    "os.chdir('/Users/ayman/Desktop/workspace/cubeAI')\n",
    "\n",
    "from cubeai.cube.moves import Cube\n",
    "from cubeai.test.testing_functions import do_scramble, sanitize"
   ]
  },
  {
   "cell_type": "code",
   "execution_count": 2,
   "id": "4cb95fcb-4b38-4375-a03c-3ca3e11be886",
   "metadata": {},
   "outputs": [
    {
     "data": {
      "text/plain": [
       "[['_seven_type', 'orange', 'g', 'r'],\n",
       " ['_one_type', 'orange', 'y', 'b'],\n",
       " ['_top_type', 'yellow_b', 'b', 'g'],\n",
       " ['bottum_type', 'white_r', 'r', 'o']]"
      ]
     },
     "execution_count": 2,
     "metadata": {},
     "output_type": "execute_result"
    }
   ],
   "source": [
    "_cube = do_scramble(['R2', 'Fp', 'Dp', 'B', 'D2', 'Lp', 'Fp', 'D', 'F', 'R2', 'D2', 'B'])\n",
    "_cube.cube_state\n",
    "_cube.combo()\n",
    "\n",
    "# _cube.seven_type_cross_solver()"
   ]
  },
  {
   "cell_type": "code",
   "execution_count": 3,
   "id": "32939649-79f9-49a1-99f1-b7daea157c11",
   "metadata": {},
   "outputs": [
    {
     "name": "stdout",
     "output_type": "stream",
     "text": [
      "_combo_list:  ['_seven_type', '_one_type', '_top_type', 'bottum_type']\n"
     ]
    }
   ],
   "source": [
    "_combo = _cube.combo()\n",
    "_combo_list = []\n",
    "for i in _combo:\n",
    "    _combo_list.append(i[0])\n",
    "print('_combo_list: ', _combo_list)"
   ]
  },
  {
   "cell_type": "code",
   "execution_count": 4,
   "id": "672c58d6-b593-4651-9d8c-38985d2981eb",
   "metadata": {},
   "outputs": [
    {
     "data": {
      "text/plain": [
       "[['U', 'Dp', 'F'], ['U2', 'Dp', 'F']]"
      ]
     },
     "execution_count": 4,
     "metadata": {},
     "output_type": "execute_result"
    }
   ],
   "source": [
    "_cube.seven_type_cross_solver()"
   ]
  },
  {
   "cell_type": "code",
   "execution_count": 5,
   "id": "4c9ecd6e-c9a3-4d13-ab95-eaed2717afd0",
   "metadata": {},
   "outputs": [],
   "source": [
    "def sanitize(moves):\n",
    "\n",
    "    unique_list = []\n",
    "    seen = set()\n",
    "\n",
    "    if moves is not None:\n",
    "\n",
    "        for sublist in moves:\n",
    "            cleaned_sublist = [item for item in sublist if item != 'I']\n",
    "            cleaned_tuple = tuple(cleaned_sublist)\n",
    "            if cleaned_tuple not in seen:\n",
    "                unique_list.append(cleaned_sublist)\n",
    "                seen.add(cleaned_tuple)\n",
    "\n",
    "    else:\n",
    "        pass\n",
    "    return unique_list"
   ]
  },
  {
   "cell_type": "markdown",
   "id": "703045ae-a102-4959-a212-133e78feec42",
   "metadata": {},
   "source": [
    "___________________"
   ]
  },
  {
   "cell_type": "code",
   "execution_count": 6,
   "id": "5a19f8d7-3e85-45ee-ae74-a409a807c769",
   "metadata": {},
   "outputs": [],
   "source": [
    "class TreeNode:\n",
    "    def __init__(self, val):\n",
    "        self.val = val\n",
    "        self.children = []    "
   ]
  },
  {
   "cell_type": "code",
   "execution_count": 7,
   "id": "6e9836e7-58c4-485a-b06a-1fe068f42187",
   "metadata": {},
   "outputs": [],
   "source": [
    "T = TreeNode(5)"
   ]
  },
  {
   "cell_type": "code",
   "execution_count": 8,
   "id": "ad27e364-6d8a-481d-bc3f-53e9a39c771c",
   "metadata": {},
   "outputs": [],
   "source": [
    "T.children = [TreeNode(2), TreeNode(7), TreeNode(1)]"
   ]
  },
  {
   "cell_type": "code",
   "execution_count": 9,
   "id": "92accd8d-6739-4366-abc7-9603ee0f3600",
   "metadata": {},
   "outputs": [],
   "source": [
    "for t in T.children:\n",
    "    t.children = [TreeNode(1)]"
   ]
  },
  {
   "cell_type": "code",
   "execution_count": 10,
   "id": "016dce61-1b14-4fa2-8dbe-500458f0dbaf",
   "metadata": {},
   "outputs": [
    {
     "name": "stdout",
     "output_type": "stream",
     "text": [
      "[[<__main__.TreeNode object at 0x10b21a010>]]\n"
     ]
    }
   ],
   "source": [
    "level = [[T]]\n",
    "print(level)\n"
   ]
  },
  {
   "cell_type": "code",
   "execution_count": 11,
   "id": "d44b1614-3170-421d-8d46-d6171e288b97",
   "metadata": {},
   "outputs": [
    {
     "name": "stdout",
     "output_type": "stream",
     "text": [
      "[5]\n",
      "[2, 7, 1]\n",
      "[1, 1, 1]\n"
     ]
    }
   ],
   "source": [
    "while level:\n",
    "    lev = level.pop()\n",
    "    print([x.val for x in lev])\n",
    "    temp = []\n",
    "    for node in lev:\n",
    "        if not node.children:\n",
    "            continue\n",
    "        else:\n",
    "            temp.extend(node.children)\n",
    "    if not temp:\n",
    "        break\n",
    "    else:\n",
    "        level.append(temp)"
   ]
  },
  {
   "cell_type": "markdown",
   "id": "c0dd507e-e11b-4f84-a3f5-3f4fd97aa4fd",
   "metadata": {
    "scrolled": true
   },
   "source": [
    "__________________"
   ]
  },
  {
   "cell_type": "code",
   "execution_count": 12,
   "id": "cc9c0360-3d4d-475a-9d07-a66682ca724a",
   "metadata": {},
   "outputs": [
    {
     "name": "stdout",
     "output_type": "stream",
     "text": [
      "_combo_list:  ['_seven_type', '_one_type', '_top_type', 'bottum_type']\n"
     ]
    }
   ],
   "source": [
    "_combo_dict = {\n",
    "    '_seven_type' : 'seven_type_cross_solver',\n",
    "    '_three_type' : 'three_type_cross_solver',\n",
    "    '_one_type' : 'one_type_cross_solver',\n",
    "    '_top_type' : 'top_type_cross_solver',\n",
    "    '_five_type' : 'five_type_cross_solver'\n",
    "}\n",
    "_cube = do_scramble(['R2', 'Fp', 'Dp', 'B', 'D2', 'Lp', 'Fp', 'D', 'F', 'R2', 'D2', 'B'])\n",
    "_cube.cube_state\n",
    "\n",
    "_combo = _cube.combo()\n",
    "_combo_list = []\n",
    "for i in _combo:\n",
    "    _combo_list.append(i[0])\n",
    "print('_combo_list: ', _combo_list)"
   ]
  },
  {
   "cell_type": "code",
   "execution_count": 13,
   "id": "a40a10be-c459-4ae1-b952-53dc69673477",
   "metadata": {},
   "outputs": [
    {
     "name": "stdout",
     "output_type": "stream",
     "text": [
      "[['_seven_type', []], ['_one_type', []], ['_top_type', []]]\n"
     ]
    }
   ],
   "source": [
    "level = []\n",
    "for _combo_type in _combo_list:\n",
    "    if _combo_type != 'bottum_type':\n",
    "        level.append(TreeNode(_combo_type))\n",
    "\n",
    "print([[l.val, l.children] for l in level])"
   ]
  },
  {
   "cell_type": "code",
   "execution_count": 14,
   "id": "6ec06b10-e119-4f14-9423-8cd751de76a5",
   "metadata": {},
   "outputs": [],
   "source": [
    "for node in level:\n",
    "    node.children = getattr(_cube, _combo_dict[node.val])()\n",
    "    node.children = sanitize(node.children)\n",
    "    node.children = [TreeNode(tuple(c)) for c in node.children]\n",
    "    "
   ]
  },
  {
   "cell_type": "code",
   "execution_count": 15,
   "id": "7cb460fb-3da0-42df-ba20-50e9fe312189",
   "metadata": {},
   "outputs": [
    {
     "name": "stdout",
     "output_type": "stream",
     "text": [
      "_seven_type [('U', 'Dp', 'F'), ('U2', 'Dp', 'F')]\n",
      "_one_type [('R',), ('Rp',)]\n",
      "_top_type [('B',), ('Bp',)]\n"
     ]
    }
   ],
   "source": [
    "for node in level:\n",
    "    print(node.val, [c.val for c in node.children])"
   ]
  },
  {
   "cell_type": "code",
   "execution_count": 16,
   "id": "13c308de-4c44-4ee2-8eff-842e1334ef42",
   "metadata": {},
   "outputs": [
    {
     "name": "stdout",
     "output_type": "stream",
     "text": [
      "[['_three_type', 'green', 'o', 'b'], ['_top_type', 'yellow_o', 'o', 'g'], ['bottum_type', 'white_g', 'g', 'r'], ['bottum_type', 'white_b', 'b', 'o']]\n",
      "[['_seven_type', 'orange', 'g', 'g'], ['_one_type', 'red', 'y', 'b'], ['bottum_type', 'white_g', 'g', 'r'], ['bottum_type', 'white_b', 'b', 'o']]\n",
      "[['_three_type', 'orange', 'b', 'b'], ['_one_type', 'orange', 'y', 'r'], ['_top_type', 'yellow_b', 'b', 'g'], ['bottum_type', 'white_r', 'r', 'o']]\n",
      "[['_seven_type', 'orange', 'g', 'b'], ['_top_type', 'yellow_b', 'b', 'g'], ['_five_type', 'orange', 'w', 'r'], ['bottum_type', 'white_r', 'r', 'o']]\n",
      "[['_seven_type', 'red', 'b', 'g'], ['_seven_type', 'orange', 'g', 'r'], ['_one_type', 'orange', 'y', 'b'], ['bottum_type', 'white_r', 'r', 'o']]\n",
      "[['_seven_type', 'orange', 'g', 'r'], ['_three_type', 'orange', 'b', 'g'], ['_one_type', 'orange', 'y', 'b'], ['bottum_type', 'white_r', 'r', 'o']]\n"
     ]
    }
   ],
   "source": [
    "_new_cubes = []\n",
    "for node in level:\n",
    "    for c in node.children:\n",
    "        _new_cube = do_scramble(c.val, _cube)\n",
    "        _new_cubes.append(_new_cube)\n",
    "        c.children = [TreeNode(_new_cube)]\n",
    "\n",
    "for c in _new_cubes:\n",
    "    print(c.combo())\n",
    "\n"
   ]
  },
  {
   "cell_type": "code",
   "execution_count": 17,
   "id": "6a586b32-5d0b-44cd-9e9d-f6d719b7740c",
   "metadata": {},
   "outputs": [],
   "source": [
    "from copy import deepcopy\n",
    "\n",
    "level2 =  [deepcopy(level)]"
   ]
  },
  {
   "cell_type": "code",
   "execution_count": 18,
   "id": "977db26e-f08e-4f57-b240-d475325b2524",
   "metadata": {},
   "outputs": [
    {
     "name": "stdout",
     "output_type": "stream",
     "text": [
      "['_seven_type', '_one_type', '_top_type']\n",
      "[3, 3, 1, 1, 1, 1]\n",
      "[('U', 'Dp', 'F'), ('U2', 'Dp', 'F'), ('R',), ('Rp',), ('B',), ('Bp',)]\n",
      "[<cubeai.cube.moves.Cube object at 0x10b2190d0>, <cubeai.cube.moves.Cube object at 0x10b249650>, <cubeai.cube.moves.Cube object at 0x10b249350>, <cubeai.cube.moves.Cube object at 0x10b2492d0>, <cubeai.cube.moves.Cube object at 0x10b2495d0>, <cubeai.cube.moves.Cube object at 0x10b24a3d0>]\n"
     ]
    }
   ],
   "source": [
    "i = 0\n",
    "while level2:\n",
    "    lev = level2.pop()\n",
    "    if i == 1:\n",
    "        print([len(x.val) for x in lev])\n",
    "    i += 1\n",
    "    print([x.val for x in lev])\n",
    "    temp = []\n",
    "    for node in lev:\n",
    "        if not node.children:\n",
    "            continue\n",
    "        else:\n",
    "            temp.extend(node.children)\n",
    "    if not temp:\n",
    "        break\n",
    "    else:\n",
    "        level2.append(temp)"
   ]
  },
  {
   "cell_type": "markdown",
   "id": "83671e02-5de5-4a75-9b73-5399d478b950",
   "metadata": {},
   "source": [
    "_________________"
   ]
  },
  {
   "cell_type": "code",
   "execution_count": 19,
   "id": "72b7a69e-1729-4ef5-8c56-731e306ee2c3",
   "metadata": {},
   "outputs": [],
   "source": [
    "def treeify(self):\n",
    "    _combo_dict = {\n",
    "    '_seven_type' : 'seven_type_cross_solver',\n",
    "    '_three_type' : 'three_type_cross_solver',\n",
    "    '_one_type' : 'one_type_cross_solver',\n",
    "    '_top_type' : 'top_type_cross_solver',\n",
    "    '_five_type' : 'five_type_cross_solver'\n",
    "    }\n",
    "\n",
    "    _combo = self.combo()\n",
    "    _combo_list = []\n",
    "    for i in _combo:\n",
    "        _combo_list.append(i[0])\n",
    "    print('_combo_list: ', _combo_list)\n",
    "    print('-----------')\n",
    "\n",
    "    level = []\n",
    "    for _combo_type in _combo_list:\n",
    "        if _combo_type != 'bottum_type':\n",
    "            level.append(TreeNode(_combo_type))\n",
    "    \n",
    "    print('combo types:', [[l.val, l.children] for l in level])\n",
    "    print('-----------')\n",
    "\n",
    "    for node in level:\n",
    "        node.children = getattr(_cube, _combo_dict[node.val])()\n",
    "        node.children = sanitize(node.children)\n",
    "        node.children = [TreeNode(tuple(c)) for c in node.children]\n",
    "\n",
    "    for node in level:\n",
    "        print('-----------')\n",
    "        print('type and potential moves: ', node.val, [c.val for c in node.children])\n",
    "        print('-----------')\n",
    "\n",
    "    _new_cubes = []\n",
    "    for node in level:\n",
    "        for c in node.children:\n",
    "            _new_cube = do_scramble(c.val, _cube)\n",
    "            _new_cubes.append(_new_cube)\n",
    "            c.children = [TreeNode(_new_cube)]\n",
    "    \n",
    "    for c in _new_cubes:\n",
    "        print('new cube combo: ', c.combo()[0][0])\n",
    "        print('-----------')\n",
    "\n",
    "    return _new_cubes\n",
    "\n",
    "        \n",
    "\n",
    "\n",
    "    "
   ]
  },
  {
   "cell_type": "code",
   "execution_count": 20,
   "id": "df89794e-0a17-4c3d-99f5-48311a771187",
   "metadata": {},
   "outputs": [
    {
     "name": "stdout",
     "output_type": "stream",
     "text": [
      "_combo_list:  ['_seven_type', '_one_type', '_top_type', 'bottum_type']\n",
      "-----------\n",
      "combo types: [['_seven_type', []], ['_one_type', []], ['_top_type', []]]\n",
      "-----------\n",
      "-----------\n",
      "type and potential moves:  _seven_type [('U', 'Dp', 'F'), ('U2', 'Dp', 'F')]\n",
      "-----------\n",
      "-----------\n",
      "type and potential moves:  _one_type [('R',), ('Rp',)]\n",
      "-----------\n",
      "-----------\n",
      "type and potential moves:  _top_type [('B',), ('Bp',)]\n",
      "-----------\n",
      "new cube combo:  _three_type\n",
      "-----------\n",
      "new cube combo:  _seven_type\n",
      "-----------\n",
      "new cube combo:  _three_type\n",
      "-----------\n",
      "new cube combo:  _seven_type\n",
      "-----------\n",
      "new cube combo:  _seven_type\n",
      "-----------\n",
      "new cube combo:  _seven_type\n",
      "-----------\n"
     ]
    },
    {
     "data": {
      "text/plain": [
       "[<cubeai.cube.moves.Cube at 0x10b1f7e50>,\n",
       " <cubeai.cube.moves.Cube at 0x10b202150>,\n",
       " <cubeai.cube.moves.Cube at 0x10b22da10>,\n",
       " <cubeai.cube.moves.Cube at 0x10b22da90>,\n",
       " <cubeai.cube.moves.Cube at 0x10b22c1d0>,\n",
       " <cubeai.cube.moves.Cube at 0x10b1dd1d0>]"
      ]
     },
     "execution_count": 20,
     "metadata": {},
     "output_type": "execute_result"
    }
   ],
   "source": [
    "_cube = do_scramble(['R2', 'Fp', 'Dp', 'B', 'D2', 'Lp', 'Fp', 'D', 'F', 'R2', 'D2', 'B'])\n",
    "\n",
    "treeify(_cube)\n"
   ]
  },
  {
   "cell_type": "code",
   "execution_count": 21,
   "id": "9f502061-9c83-4d70-b291-a5994ab17a11",
   "metadata": {},
   "outputs": [
    {
     "name": "stdout",
     "output_type": "stream",
     "text": [
      "_combo_list:  ['_seven_type', '_one_type', '_top_type', 'bottum_type']\n",
      "-----------\n",
      "combo types: [['_seven_type', []], ['_one_type', []], ['_top_type', []]]\n",
      "-----------\n",
      "-----------\n",
      "type and potential moves:  _seven_type [('U', 'Dp', 'F'), ('U2', 'Dp', 'F')]\n",
      "-----------\n",
      "-----------\n",
      "type and potential moves:  _one_type [('R',), ('Rp',)]\n",
      "-----------\n",
      "-----------\n",
      "type and potential moves:  _top_type [('B',), ('Bp',)]\n",
      "-----------\n",
      "new cube combo:  _three_type\n",
      "-----------\n",
      "new cube combo:  _seven_type\n",
      "-----------\n",
      "new cube combo:  _three_type\n",
      "-----------\n",
      "new cube combo:  _seven_type\n",
      "-----------\n",
      "new cube combo:  _seven_type\n",
      "-----------\n",
      "new cube combo:  _seven_type\n",
      "-----------\n",
      "<cubeai.cube.moves.Cube object at 0x10b24aa90>\n"
     ]
    }
   ],
   "source": [
    "cube0 = treeify(_cube)[1]\n",
    "print(cube0)\n"
   ]
  },
  {
   "cell_type": "code",
   "execution_count": 22,
   "id": "7626ad45-fed1-4d61-b00f-d09f7fa486ed",
   "metadata": {},
   "outputs": [
    {
     "name": "stdout",
     "output_type": "stream",
     "text": [
      "_combo_list:  ['_seven_type', '_one_type', 'bottum_type', 'bottum_type']\n",
      "-----------\n",
      "combo types: [['_seven_type', []], ['_one_type', []]]\n",
      "-----------\n",
      "-----------\n",
      "type and potential moves:  _seven_type [('U', 'Dp', 'F'), ('U2', 'Dp', 'F')]\n",
      "-----------\n",
      "-----------\n",
      "type and potential moves:  _one_type [('R',), ('Rp',)]\n",
      "-----------\n",
      "new cube combo:  _three_type\n",
      "-----------\n",
      "new cube combo:  _seven_type\n",
      "-----------\n",
      "new cube combo:  _three_type\n",
      "-----------\n",
      "new cube combo:  _seven_type\n",
      "-----------\n"
     ]
    },
    {
     "data": {
      "text/plain": [
       "[<cubeai.cube.moves.Cube at 0x10b24ae50>,\n",
       " <cubeai.cube.moves.Cube at 0x10b24b6d0>,\n",
       " <cubeai.cube.moves.Cube at 0x10b2497d0>,\n",
       " <cubeai.cube.moves.Cube at 0x10b2481d0>]"
      ]
     },
     "execution_count": 22,
     "metadata": {},
     "output_type": "execute_result"
    }
   ],
   "source": [
    "treeify(cube0)"
   ]
  },
  {
   "cell_type": "code",
   "execution_count": null,
   "id": "acf7d4ff-781a-4875-bf8c-d19b607712e8",
   "metadata": {},
   "outputs": [],
   "source": []
  },
  {
   "cell_type": "code",
   "execution_count": null,
   "id": "d9b1b233-97fb-47cf-9255-fd80ed1236e9",
   "metadata": {},
   "outputs": [],
   "source": []
  },
  {
   "cell_type": "code",
   "execution_count": null,
   "id": "5a2b487c-f647-43fe-aa04-0552ae94c7bc",
   "metadata": {},
   "outputs": [],
   "source": []
  }
 ],
 "metadata": {
  "kernelspec": {
   "display_name": "Python 3 (ipykernel)",
   "language": "python",
   "name": "python3"
  },
  "language_info": {
   "codemirror_mode": {
    "name": "ipython",
    "version": 3
   },
   "file_extension": ".py",
   "mimetype": "text/x-python",
   "name": "python",
   "nbconvert_exporter": "python",
   "pygments_lexer": "ipython3",
   "version": "3.11.7"
  }
 },
 "nbformat": 4,
 "nbformat_minor": 5
}
