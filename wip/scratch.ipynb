{
 "cells": [
  {
   "cell_type": "code",
   "execution_count": 1,
   "id": "e0020b15-74f3-40d5-9b02-44f274f83f7a",
   "metadata": {},
   "outputs": [],
   "source": [
    "import os\n",
    "# print(os.getcwd())\n",
    "\n",
    "os.chdir('/Users/ayman/Desktop/workspace/cubeAI')\n",
    "\n",
    "from cubeai.cube.moves import Cube\n",
    "from cubeai.test.testing_functions import do_scramble, sanitize"
   ]
  },
  {
   "cell_type": "code",
   "execution_count": 2,
   "id": "4cb95fcb-4b38-4375-a03c-3ca3e11be886",
   "metadata": {},
   "outputs": [
    {
     "data": {
      "text/plain": [
       "[['_seven_type', 'orange', 'g', 'r'],\n",
       " ['_one_type', 'orange', 'y', 'b'],\n",
       " ['_top_type', 'yellow_b', 'b', 'g'],\n",
       " ['bottum_type', 'white_r', 'r', 'o']]"
      ]
     },
     "execution_count": 2,
     "metadata": {},
     "output_type": "execute_result"
    }
   ],
   "source": [
    "_cube = do_scramble(['F', 'B', 'U2', 'F', 'B2', 'D'])\n",
    "_cube = do_scramble(['R2', 'Fp', 'Dp', 'B', 'D2', 'Lp', 'Fp', 'D', 'F', 'R2', 'D2', 'B'])\n",
    "_cube.cube_state\n",
    "_cube.combo()\n",
    "\n",
    "# _cube.seven_type_cross_solver()"
   ]
  },
  {
   "cell_type": "code",
   "execution_count": 11,
   "id": "32939649-79f9-49a1-99f1-b7daea157c11",
   "metadata": {},
   "outputs": [
    {
     "name": "stdout",
     "output_type": "stream",
     "text": [
      "_combo_list:  ['_seven_type', '_one_type', '_top_type', 'bottum_type']\n"
     ]
    }
   ],
   "source": [
    "_combo = _cube.combo()\n",
    "_combo_list = []\n",
    "for i in _combo:\n",
    "    _combo_list.append(i[0])\n",
    "print('_combo_list: ', _combo_list)"
   ]
  },
  {
   "cell_type": "code",
   "execution_count": 14,
   "id": "672c58d6-b593-4651-9d8c-38985d2981eb",
   "metadata": {},
   "outputs": [
    {
     "name": "stdout",
     "output_type": "stream",
     "text": [
      "[[['I'], ['B', 'Bp']]]\n"
     ]
    },
    {
     "data": {
      "text/plain": [
       "[['I', 'B'], ['I', 'Bp']]"
      ]
     },
     "execution_count": 14,
     "metadata": {},
     "output_type": "execute_result"
    }
   ],
   "source": [
    "_cube.top_type_cross_solver()"
   ]
  },
  {
   "cell_type": "code",
   "execution_count": 8,
   "id": "4c9ecd6e-c9a3-4d13-ab95-eaed2717afd0",
   "metadata": {},
   "outputs": [],
   "source": [
    "def sanitize(moves):\n",
    "\n",
    "    unique_list = []\n",
    "    seen = set()\n",
    "\n",
    "    if moves is not None:\n",
    "\n",
    "        for sublist in moves:\n",
    "            cleaned_sublist = [item for item in sublist if item != 'I']\n",
    "            cleaned_tuple = tuple(cleaned_sublist)\n",
    "            if cleaned_tuple not in seen:\n",
    "                unique_list.append(cleaned_sublist)\n",
    "                seen.add(cleaned_tuple)\n",
    "\n",
    "    else:\n",
    "        pass\n",
    "    return unique_list"
   ]
  },
  {
   "cell_type": "code",
   "execution_count": 9,
   "id": "396f33a3-7e60-4afc-9a64-7c4eb4b46a75",
   "metadata": {},
   "outputs": [],
   "source": [
    "from collections import deque\n",
    "\n",
    "def build_tree(self):\n",
    "\n",
    "    _combo_dict = {\n",
    "        '_seven_type' : 'seven_type_cross_solver',\n",
    "        '_three_type' : 'three_type_cross_solver',\n",
    "        '_one_type' : 'one_type_cross_solver',\n",
    "        '_top_type' : 'top_type_cross_solver',\n",
    "        '_five_type' : 'five_type_cross_solver',\n",
    "    }\n",
    "\n",
    "    _combo = self.combo()\n",
    "    _combo_list = []\n",
    "    for i in _combo:\n",
    "        _combo_list.append(i[0])\n",
    "    print('_combo_list: ', _combo_list)\n",
    "\n",
    "    num_bottum_type = _combo.count('bottum_type')\n",
    "    \n",
    "    if num_bottum_type < 4:\n",
    "        # Initialize BFS queue\n",
    "        queue = deque([(type, []) for type in _combo_list if type != 'bottum_type'])\n",
    "        print('queue: ', queue)\n",
    "        \n",
    "        \n",
    "        # Initialize tree with start nodes\n",
    "        tree = {}\n",
    "        for type, children in queue:\n",
    "            tree[type] = {'children': [], 'level': 0}\n",
    "        print('tree: ', tree)\n",
    "        print('----------------------')\n",
    "        \n",
    "        # Perform BFS\n",
    "        while queue:\n",
    "            print('-----begin BFS--------')\n",
    "            print('tree:', tree)\n",
    "            current_type, current_children = queue.popleft()\n",
    "            print('current_type:', current_type)\n",
    "            print('current_children:', current_children)\n",
    "            tree[current_type]['children'] = current_children\n",
    "            \n",
    "            if tree[current_type]['level'] < 6:\n",
    "                tree[current_type]['level'] += 1\n",
    "                current_type_moves_to_choose_from = getattr(self, _combo_dict[current_type])()\n",
    "                current_type_moves_to_choose_from = sanitize(current_type_moves_to_choose_from)\n",
    "                print('current_type_moves_to_choose_from: ', current_type_moves_to_choose_from)\n",
    "                \n",
    "                for choice_of_a_move in current_type_moves_to_choose_from:\n",
    "                    print('-------------choice_of_a_move---------')\n",
    "                    print('choice_of_a_move: ', choice_of_a_move)\n",
    "                    new_children = []\n",
    "\n",
    "                    new_self = do_scramble(choice_of_a_move, self)\n",
    "                    new_self_combo = new_self.combo()\n",
    "                    new_self_combo_list = []\n",
    "                    for i in new_self_combo:\n",
    "                        new_self_combo_list.append(i[0])\n",
    "                    print('new_self_combo_list: ', new_self_combo_list)\n",
    "                    \n",
    "                    for child_combo in new_self_combo_list:\n",
    "                        print('-------------child_combo---------')\n",
    "                        print('child_combo: ', child_combo)\n",
    "                        if child_combo == 'bottum_type':\n",
    "                            pass\n",
    "\n",
    "                        else:\n",
    "                            # if child_combo not in tree:\n",
    "                            queue.append((child_combo, new_children))\n",
    "                            print('queue: ', queue)\n",
    "                            \n",
    "                            tree[child_combo] = {'children': [], 'level': tree[current_type]['level']}\n",
    "                            print('tree:', tree)\n",
    "                        \n",
    "                            new_children.append(child_combo)\n",
    "                        return\n",
    "                        \n",
    "                num_bottum_type = new_self_combo.count('bottum_type')\n",
    "\n",
    "        return tree\n",
    "        \n",
    "    else:\n",
    "        print('there are 4 bottums')\n",
    "        \n"
   ]
  },
  {
   "cell_type": "code",
   "execution_count": 10,
   "id": "c36cce13-7730-4912-b599-aaa86b901a6e",
   "metadata": {},
   "outputs": [
    {
     "name": "stdout",
     "output_type": "stream",
     "text": [
      "_combo_list:  ['_seven_type', '_one_type', '_top_type', 'bottum_type']\n",
      "queue:  deque([('_seven_type', []), ('_one_type', []), ('_top_type', [])])\n",
      "tree:  {'_seven_type': {'children': [], 'level': 0}, '_one_type': {'children': [], 'level': 0}, '_top_type': {'children': [], 'level': 0}}\n",
      "----------------------\n",
      "-----begin BFS--------\n",
      "tree: {'_seven_type': {'children': [], 'level': 0}, '_one_type': {'children': [], 'level': 0}, '_top_type': {'children': [], 'level': 0}}\n",
      "current_type: _seven_type\n",
      "current_children: []\n",
      "current_type_moves_to_choose_from:  [['U', 'Dp', 'F'], ['U2', 'Dp', 'F']]\n",
      "-------------choice_of_a_move---------\n",
      "choice_of_a_move:  ['U', 'Dp', 'F']\n",
      "new_self_combo_list:  ['_three_type', '_top_type', 'bottum_type', 'bottum_type']\n",
      "-------------child_combo---------\n",
      "child_combo:  _three_type\n",
      "queue:  deque([('_one_type', []), ('_top_type', []), ('_three_type', [])])\n",
      "tree: {'_seven_type': {'children': [], 'level': 1}, '_one_type': {'children': [], 'level': 0}, '_top_type': {'children': [], 'level': 0}, '_three_type': {'children': [], 'level': 1}}\n"
     ]
    }
   ],
   "source": [
    "build_tree(_cube)"
   ]
  },
  {
   "cell_type": "code",
   "execution_count": null,
   "id": "7ecfd18d-2f18-4b43-8791-1c1d90b86a18",
   "metadata": {},
   "outputs": [],
   "source": [
    "from collections import deque\n",
    "\n",
    "def build_tree(self):\n",
    "\n",
    "    _combo_dict = {\n",
    "        '_seven_type' : 'seven_type_cross_solver',\n",
    "        '_three_type' : 'three_type_cross_solver',\n",
    "        '_one_type' : 'one_type_cross_solver',\n",
    "        '_top_type' : 'top_type_cross_solver',\n",
    "        '_five_type' : 'five_type_cross_solver',\n",
    "    }\n",
    "\n",
    "    _combo = self.combo()\n",
    "    _combo_list = []\n",
    "    for i in _combo:\n",
    "        _combo_list.append(i[0])\n",
    "    print('_combo_list: ', _combo_list)\n",
    "\n",
    "    num_bottum_type = _combo.count('bottum_type')\n",
    "    \n",
    "    if num_bottum_type < 4:\n",
    "        # Initialize BFS queue\n",
    "        queue = deque([(type, []) for type in _combo_list if type != 'bottum_type'])\n",
    "        print('queue: ', queue)\n",
    "        \n",
    "        \n",
    "        # Initialize tree with start nodes\n",
    "        tree = {}\n",
    "        for type, children in queue:\n",
    "            tree[type] = {'children': [], 'level': 0}\n",
    "        print('tree: ', tree)\n",
    "        print('----------------------')\n",
    "        \n",
    "        # Perform BFS\n",
    "        while queue:\n",
    "            print('-----begin BFS--------')\n",
    "            print('tree:', tree)\n",
    "            current_type, current_children = queue.popleft()\n",
    "            print('current_type:', current_type)\n",
    "            print('current_children:', current_children)\n",
    "            tree[current_type]['children'] = current_children\n",
    "            \n",
    "            if tree[current_type]['level'] < 6:\n",
    "                tree[current_type]['level'] += 1\n",
    "                current_type_moves_to_choose_from = getattr(self, _combo_dict[current_type])()\n",
    "                current_type_moves_to_choose_from = sanitize(current_type_moves_to_choose_from)\n",
    "                print('current_type_moves_to_choose_from: ', current_type_moves_to_choose_from)\n",
    "                \n",
    "                for choice_of_a_move in current_type_moves_to_choose_from:\n",
    "                    print('-------------choice_of_a_move---------')\n",
    "                    print('choice_of_a_move: ', choice_of_a_move)\n",
    "                    new_children = []\n",
    "\n",
    "                    new_self = do_scramble(choice_of_a_move, self)\n",
    "                    new_self_combo = new_self.combo()\n",
    "                    new_self_combo_list = []\n",
    "                    for i in new_self_combo:\n",
    "                        new_self_combo_list.append(i[0])\n",
    "                    print('new_self_combo_list: ', new_self_combo_list)\n",
    "                    \n",
    "                    for child_combo in new_self_combo_list:\n",
    "                        print('-------------child_combo---------')\n",
    "                        print('child_combo: ', child_combo)\n",
    "                        if child_combo == 'bottum_type':\n",
    "                            pass\n",
    "\n",
    "                        else:\n",
    "                            # if child_combo not in tree:\n",
    "                            queue.append((child_combo, new_children))\n",
    "                            print('queue: ', queue)\n",
    "                            \n",
    "                            tree[child_combo] = {'children': [], 'level': tree[current_type]['level']}\n",
    "                            print('tree:', tree)\n",
    "                        \n",
    "                            new_children.append(child_combo)\n",
    "                        return\n",
    "                        \n",
    "                num_bottum_type = new_self_combo.count('bottum_type')\n",
    "\n",
    "        return tree\n",
    "        \n",
    "    else:\n",
    "        print('there are 4 bottums')\n",
    "        \n"
   ]
  },
  {
   "cell_type": "code",
   "execution_count": null,
   "id": "20f82fa0-7b2b-4396-9f4b-c91ac7f137e7",
   "metadata": {},
   "outputs": [],
   "source": []
  }
 ],
 "metadata": {
  "kernelspec": {
   "display_name": "Python 3 (ipykernel)",
   "language": "python",
   "name": "python3"
  },
  "language_info": {
   "codemirror_mode": {
    "name": "ipython",
    "version": 3
   },
   "file_extension": ".py",
   "mimetype": "text/x-python",
   "name": "python",
   "nbconvert_exporter": "python",
   "pygments_lexer": "ipython3",
   "version": "3.11.7"
  }
 },
 "nbformat": 4,
 "nbformat_minor": 5
}
